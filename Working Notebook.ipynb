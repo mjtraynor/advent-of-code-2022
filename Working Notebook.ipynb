{
 "cells": [
  {
   "cell_type": "code",
   "execution_count": 88,
   "metadata": {},
   "outputs": [
    {
     "name": "stdout",
     "output_type": "stream",
     "text": [
      "The elf carrying the most calories is elf_84 with 70720.\n"
     ]
    }
   ],
   "source": [
    "from pathlib import Path\n",
    "\n",
    "file_path = './files/'\n",
    "file_name = 'day1-calories-list.txt'\n",
    "\n",
    "individual_calories_list = []\n",
    "grouped_calories_dict = {}\n",
    "elf_count = 1\n",
    "# most_calories = {'elf_0': 0}\n",
    "most_calories = {}\n",
    "\n",
    "# Iterate through each line in the file.\n",
    "# If it is not a blank line then build a list of calories for that individual elf.\n",
    "# It it is a blank line then add the elf to the dictionary as a key, and the list\n",
    "# of calories as the value, then clear the list of calories.\n",
    "with open(Path(file_path + file_name), 'r') as f:\n",
    "    for line in f:\n",
    "        if line.strip() != '':\n",
    "            individual_calories_list.append(int(line.strip()))\n",
    "        else:\n",
    "            grouped_calories_dict['elf_' + str(elf_count)] = individual_calories_list\n",
    "            individual_calories_list = []\n",
    "            elf_count += 1\n",
    "    # If the last line in the file is not blank then add the final elf to the dictionary.\n",
    "    if len(individual_calories_list) != 0:\n",
    "        grouped_calories_dict['elf_' + str(elf_count)] = individual_calories_list\n",
    "\n",
    "# Iterate through each elf in the dictionary.\n",
    "# If it is the first elf then add the elf and the total calories to the most_calories dictionay.\n",
    "# If it is not the first elf then check if the total calories is higher than the current highest,\n",
    "# and if so then replace the elf in the most_calories dictionary.\n",
    "for elf in grouped_calories_dict:\n",
    "    total_calories = sum(grouped_calories_dict[elf])\n",
    "    if not most_calories:\n",
    "        most_calories = {elf: total_calories}\n",
    "        elf_with_most_calories = elf\n",
    "    elif total_calories > most_calories[elf_with_most_calories]:\n",
    "        most_calories = {elf: total_calories}\n",
    "        elf_with_most_calories = elf\n",
    "\n",
    "elf_with_most_calories = list(most_calories.keys())[0]\n",
    "most_calories = most_calories[elf_with_most_calories]\n",
    "print('The elf carrying the most calories is {elf} with {calories}.'.format(elf=elf_with_most_calories, calories=most_calories))"
   ]
  },
  {
   "cell_type": "code",
   "execution_count": null,
   "metadata": {},
   "outputs": [],
   "source": []
  }
 ],
 "metadata": {
  "kernelspec": {
   "display_name": "Python 3.10.8 ('advent_of_code')",
   "language": "python",
   "name": "python3"
  },
  "language_info": {
   "codemirror_mode": {
    "name": "ipython",
    "version": 3
   },
   "file_extension": ".py",
   "mimetype": "text/x-python",
   "name": "python",
   "nbconvert_exporter": "python",
   "pygments_lexer": "ipython3",
   "version": "3.10.8"
  },
  "orig_nbformat": 4,
  "vscode": {
   "interpreter": {
    "hash": "119b1f665d55f951480eae433f2bbc99c49044c95bc9e7446c4f154dbc361488"
   }
  }
 },
 "nbformat": 4,
 "nbformat_minor": 2
}
