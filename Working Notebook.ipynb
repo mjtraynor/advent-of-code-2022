{
 "cells": [
  {
   "cell_type": "code",
   "execution_count": 60,
   "metadata": {},
   "outputs": [
    {
     "name": "stdout",
     "output_type": "stream",
     "text": [
      "{1: ['T', 'P', 'Z', 'C', 'S', 'L', 'Q', 'N'], 2: ['L', 'P', 'T', 'V', 'H', 'C', 'G'], 3: ['D', 'C', 'Z', 'F'], 4: ['G', 'W', 'T', 'D', 'L', 'M', 'V', 'C'], 5: ['P', 'W', 'C'], 6: ['P', 'F', 'J', 'D', 'C', 'T', 'S', 'Z'], 7: ['V', 'W', 'G', 'B', 'D'], 8: ['N', 'J', 'S', 'Q', 'H', 'W'], 9: ['R', 'C', 'Q', 'F', 'S', 'L', 'V']}\n"
     ]
    }
   ],
   "source": [
    "from pathlib import Path\n",
    "\n",
    "def main():\n",
    "    file_path = './files/'\n",
    "    file_name = 'day5-crate-stacks.txt'\n",
    "\n",
    "    stack_dict = create_initial_stacks(file_path=file_path, file_name=file_name)\n",
    "\n",
    "    print(stack_dict)\n",
    "\n",
    "def create_initial_stacks(file_path:str, file_name: str) -> dict:\n",
    "    # Initialise a dictionary for each stack.\n",
    "    stacks_dict = {1: [], 2: [], 3: [], 4: [], 5: [], 6: [], 7: [], 8: [], 9: []}\n",
    "    # Create a dicionary that indicated what stack to put the letter in, depending on the\n",
    "    # character in the line.\n",
    "    file_stack_dict = {1: 1, 5: 2, 9: 3, 13: 4, 17: 5, 21: 6, 25: 7, 29: 8, 33: 9}\n",
    "\n",
    "    with open(Path(file_path + file_name), 'r') as file:\n",
    "        # Iterate through each line in the file.\n",
    "        for line in file:\n",
    "            if '1' not in line:\n",
    "                for i in range(0, len(line.strip())):\n",
    "                    # Check if the character position is in the dictionary, and if so then\n",
    "                    # add the letter to the correct stack.\n",
    "                    if i in file_stack_dict:\n",
    "                        stack = file_stack_dict[i]\n",
    "                        crate = line.strip()[i]\n",
    "                        stacks_dict[stack].append(crate)\n",
    "            # Break out the file iteration when the line contains '1'.\n",
    "            else:\n",
    "                break\n",
    "        \n",
    "        for stack in stacks_dict.values():\n",
    "            # Reverse the stacks so that the top crate is at th end of the list.\n",
    "            stack.reverse()\n",
    "            # Remove all the crates that are blank.\n",
    "            stack[:] = [crate for crate in stack if crate != ' ']\n",
    "        \n",
    "        return stacks_dict\n",
    "\n",
    "if __name__ == \"__main__\":\n",
    "    main()"
   ]
  },
  {
   "cell_type": "code",
   "execution_count": null,
   "metadata": {},
   "outputs": [],
   "source": []
  }
 ],
 "metadata": {
  "kernelspec": {
   "display_name": "Python 3.10.8 ('advent_of_code')",
   "language": "python",
   "name": "python3"
  },
  "language_info": {
   "codemirror_mode": {
    "name": "ipython",
    "version": 3
   },
   "file_extension": ".py",
   "mimetype": "text/x-python",
   "name": "python",
   "nbconvert_exporter": "python",
   "pygments_lexer": "ipython3",
   "version": "3.10.8"
  },
  "orig_nbformat": 4,
  "vscode": {
   "interpreter": {
    "hash": "119b1f665d55f951480eae433f2bbc99c49044c95bc9e7446c4f154dbc361488"
   }
  }
 },
 "nbformat": 4,
 "nbformat_minor": 2
}
