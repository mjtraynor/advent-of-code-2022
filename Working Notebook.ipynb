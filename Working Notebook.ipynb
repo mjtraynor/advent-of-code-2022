{
 "cells": [
  {
   "cell_type": "code",
   "execution_count": 71,
   "metadata": {},
   "outputs": [
    {
     "name": "stdout",
     "output_type": "stream",
     "text": [
      "The priorities total for all the duplicate items is 8018.\n",
      "The group priorities total for all the common items is None.\n"
     ]
    }
   ],
   "source": [
    "from pathlib import Path\n",
    "\n",
    "def main():\n",
    "    file_path = './files/'\n",
    "    file_name = 'day3-rucksack-contents.txt'\n",
    "    priorities_order = 'abcdefghijklmnopqrstuvwxyzABCDEFGHIJKLMNOPQRSTUVWXYZ'\n",
    "\n",
    "    backpacks_dict = create_backpacks_dict(file_path=file_path, file_name=file_name)\n",
    "    \n",
    "    priority = calculate_priorities(backpacks_dict=backpacks_dict, priorities_order=priorities_order)\n",
    "    group_priority = calculate_group_priorities(backpacks_dict=backpacks_dict, priorities_order=priorities_order)\n",
    "\n",
    "    print('The priorities total for all the duplicate items is {priorities}.'.format(priorities=priority))\n",
    "    print('The group priorities total for all the common items is {priorities}.'.format(priorities=group_priority))\n",
    "\n",
    "def create_backpacks_dict(file_path: str, file_name: str) -> dict:\n",
    "    compartment_1_list = []\n",
    "    compartment_2_list = []\n",
    "    backpack_dict = {}\n",
    "    backpacks_dict = {}\n",
    "    backpack_number = 1\n",
    "\n",
    "    with open(Path(file_path + file_name), 'r') as file:\n",
    "        for line in file:\n",
    "            line_length = len(line.strip())\n",
    "            for i in range(0, line_length):\n",
    "                item = line[i]\n",
    "                if i <= (line_length / 2) - 1:\n",
    "                    compartment_1_list.append(item)\n",
    "                else:\n",
    "                    compartment_2_list.append(item)\n",
    "                    if item in compartment_1_list:\n",
    "                        duplicate_item = item\n",
    "            backpack_dict['compartment_1_list'] = compartment_1_list\n",
    "            backpack_dict['compartment_2_list'] = compartment_2_list\n",
    "            backpack_dict['duplicate_item'] = duplicate_item\n",
    "            backpacks_dict['backpack_' + str(backpack_number)] = backpack_dict\n",
    "            compartment_1_list = []\n",
    "            compartment_2_list = []\n",
    "            backpack_dict = {}\n",
    "            backpack_number += 1\n",
    "\n",
    "    return backpacks_dict\n",
    "\n",
    "def calculate_priorities(backpacks_dict: dict, priorities_order: str) -> int:\n",
    "    priorities_total = 0\n",
    "\n",
    "    for backpack in backpacks_dict.values():\n",
    "        duplicate_item = backpack['duplicate_item']\n",
    "        duplicate_item_priority = priorities_order.rfind(duplicate_item) + 1\n",
    "        priorities_total += duplicate_item_priority\n",
    "\n",
    "    return priorities_total\n",
    "\n",
    "def calculate_group_priorities(backpacks_dict: dict, priorities_order: str) -> int:\n",
    "    grouped_list = []\n",
    "    priorities_total = 0\n",
    "\n",
    "    for i in range (0, len(backpacks_dict)):\n",
    "        backpack = backpacks_dict['backpack_' + str(i + 1)]\n",
    "        backpack_unique_items = list(set(backpack['compartment_1_list'] + backpack['compartment_2_list']))\n",
    "        if i == 0 or i % 3 != 0:\n",
    "            grouped_list.append(backpack_unique_items)\n",
    "        else:\n",
    "            common_item = set(grouped_list[0]).intersection(grouped_list[1]).intersection(grouped_list[2]).pop()\n",
    "            backpack['common_item'] = common_item\n",
    "            duplicate_item_priority = priorities_order.rfind(common_item) + 1\n",
    "            priorities_total += duplicate_item_priority\n",
    "            if i != len(backpacks_dict):\n",
    "                grouped_list = [backpack_unique_items]\n",
    "            \n",
    "    common_item = set(grouped_list[0]).intersection(grouped_list[1]).intersection(grouped_list[2]).pop()\n",
    "    backpack['common_item'] = common_item\n",
    "    duplicate_item_priority = priorities_order.rfind(common_item) + 1\n",
    "    priorities_total += duplicate_item_priority\n",
    "\n",
    "if __name__ == \"__main__\":\n",
    "    main()"
   ]
  },
  {
   "cell_type": "code",
   "execution_count": 68,
   "metadata": {},
   "outputs": [
    {
     "name": "stdout",
     "output_type": "stream",
     "text": [
      "2518\n"
     ]
    }
   ],
   "source": [
    "grouped_list = []\n",
    "priorities_order = 'abcdefghijklmnopqrstuvwxyzABCDEFGHIJKLMNOPQRSTUVWXYZ'\n",
    "priorities_total = 0\n",
    "\n",
    "for i in range (0, len(backpacks_dictionary)):\n",
    "    backpack = backpacks_dictionary['backpack_' + str(i + 1)]\n",
    "    backpack_unique_items = list(set(backpack['compartment_1_list'] + backpack['compartment_2_list']))\n",
    "    if i == 0 or i % 3 != 0:\n",
    "        grouped_list.append(backpack_unique_items)\n",
    "    else:\n",
    "        common_item = set(grouped_list[0]).intersection(grouped_list[1]).intersection(grouped_list[2]).pop()\n",
    "        backpack['common_item'] = common_item\n",
    "        duplicate_item_priority = priorities_order.rfind(common_item) + 1\n",
    "        priorities_total += duplicate_item_priority\n",
    "        if i != len(backpacks_dictionary):\n",
    "            grouped_list = [backpack_unique_items]\n",
    "        \n",
    "common_item = set(grouped_list[0]).intersection(grouped_list[1]).intersection(grouped_list[2]).pop()\n",
    "backpack['common_item'] = common_item\n",
    "duplicate_item_priority = priorities_order.rfind(common_item) + 1\n",
    "priorities_total += duplicate_item_priority\n",
    "\n",
    "print(priorities_total)"
   ]
  },
  {
   "cell_type": "code",
   "execution_count": null,
   "metadata": {},
   "outputs": [],
   "source": []
  }
 ],
 "metadata": {
  "kernelspec": {
   "display_name": "Python 3.10.8 ('advent_of_code')",
   "language": "python",
   "name": "python3"
  },
  "language_info": {
   "codemirror_mode": {
    "name": "ipython",
    "version": 3
   },
   "file_extension": ".py",
   "mimetype": "text/x-python",
   "name": "python",
   "nbconvert_exporter": "python",
   "pygments_lexer": "ipython3",
   "version": "3.10.8"
  },
  "orig_nbformat": 4,
  "vscode": {
   "interpreter": {
    "hash": "119b1f665d55f951480eae433f2bbc99c49044c95bc9e7446c4f154dbc361488"
   }
  }
 },
 "nbformat": 4,
 "nbformat_minor": 2
}
